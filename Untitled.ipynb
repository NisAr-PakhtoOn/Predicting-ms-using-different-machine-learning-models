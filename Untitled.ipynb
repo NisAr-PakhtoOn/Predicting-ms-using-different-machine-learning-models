{
 "cells": [
  {
   "cell_type": "markdown",
   "id": "f3ae6546",
   "metadata": {},
   "source": [
    "# Predicting ms using different machine learning models"
   ]
  },
  {
   "cell_type": "code",
   "execution_count": 1,
   "id": "f3d248bf",
   "metadata": {},
   "outputs": [],
   "source": [
    "# We will import all the required libraries\n",
    "import pandas as pd\n",
    "import seaborn as sns\n",
    "import matplotlib as plt\n",
    "# from sklearn.linear_model import LogisticRegression\n",
    "# from sklearn.tree import DecisionTreeClassifier\n",
    "# from sklearn.neighbors import KNeighborsClassifier\n",
    "# from sklearn.ensemble import RandomForestClassifier\n",
    "# from sklearn.svm import SVC\n",
    "# from sklearn.discriminant_analysis import LinearDiscriminantAnalysis\n",
    "# from sklearn.naive_bayes import GaussianNB\n",
    "\n",
    "# from sklearn.metrics import precision_score,recall_score,accuracy_score"
   ]
  },
  {
   "cell_type": "code",
   "execution_count": 2,
   "id": "a06d5373",
   "metadata": {},
   "outputs": [
    {
     "data": {
      "text/html": [
       "<div>\n",
       "<style scoped>\n",
       "    .dataframe tbody tr th:only-of-type {\n",
       "        vertical-align: middle;\n",
       "    }\n",
       "\n",
       "    .dataframe tbody tr th {\n",
       "        vertical-align: top;\n",
       "    }\n",
       "\n",
       "    .dataframe thead th {\n",
       "        text-align: right;\n",
       "    }\n",
       "</style>\n",
       "<table border=\"1\" class=\"dataframe\">\n",
       "  <thead>\n",
       "    <tr style=\"text-align: right;\">\n",
       "      <th></th>\n",
       "      <th>ID</th>\n",
       "      <th>Gender</th>\n",
       "      <th>Age</th>\n",
       "      <th>Nationality</th>\n",
       "      <th>mi</th>\n",
       "      <th>ms</th>\n",
       "    </tr>\n",
       "  </thead>\n",
       "  <tbody>\n",
       "    <tr>\n",
       "      <th>0</th>\n",
       "      <td>1.0</td>\n",
       "      <td>Female</td>\n",
       "      <td>18.0</td>\n",
       "      <td>Jordanian</td>\n",
       "      <td>5.0</td>\n",
       "      <td>1.0</td>\n",
       "    </tr>\n",
       "    <tr>\n",
       "      <th>1</th>\n",
       "      <td>2.0</td>\n",
       "      <td>Male</td>\n",
       "      <td>19.0</td>\n",
       "      <td>Canadian</td>\n",
       "      <td>10.0</td>\n",
       "      <td>0.3</td>\n",
       "    </tr>\n",
       "    <tr>\n",
       "      <th>2</th>\n",
       "      <td>3.0</td>\n",
       "      <td>Male</td>\n",
       "      <td>18.0</td>\n",
       "      <td>Jordanian</td>\n",
       "      <td>8.0</td>\n",
       "      <td>0.8</td>\n",
       "    </tr>\n",
       "    <tr>\n",
       "      <th>3</th>\n",
       "      <td>4.0</td>\n",
       "      <td>Male</td>\n",
       "      <td>19.0</td>\n",
       "      <td>Sudanese</td>\n",
       "      <td>4.0</td>\n",
       "      <td>1.8</td>\n",
       "    </tr>\n",
       "    <tr>\n",
       "      <th>4</th>\n",
       "      <td>5.0</td>\n",
       "      <td>Male</td>\n",
       "      <td>20.0</td>\n",
       "      <td>Sudanese</td>\n",
       "      <td>4.0</td>\n",
       "      <td>1.4</td>\n",
       "    </tr>\n",
       "  </tbody>\n",
       "</table>\n",
       "</div>"
      ],
      "text/plain": [
       "    ID  Gender   Age Nationality    mi   ms\n",
       "0  1.0  Female  18.0   Jordanian   5.0  1.0\n",
       "1  2.0    Male  19.0    Canadian  10.0  0.3\n",
       "2  3.0    Male  18.0   Jordanian   8.0  0.8\n",
       "3  4.0    Male  19.0    Sudanese   4.0  1.8\n",
       "4  5.0    Male  20.0    Sudanese   4.0  1.4"
      ]
     },
     "execution_count": 2,
     "metadata": {},
     "output_type": "execute_result"
    }
   ],
   "source": [
    "# Reading the data we have generated already\n",
    "data = pd.read_excel('SURVEY new (1).xlsx')\n",
    "data.head() # showing the first five rows using the head() method"
   ]
  },
  {
   "cell_type": "code",
   "execution_count": 3,
   "id": "1e7e8e53",
   "metadata": {},
   "outputs": [
    {
     "data": {
      "text/html": [
       "<div>\n",
       "<style scoped>\n",
       "    .dataframe tbody tr th:only-of-type {\n",
       "        vertical-align: middle;\n",
       "    }\n",
       "\n",
       "    .dataframe tbody tr th {\n",
       "        vertical-align: top;\n",
       "    }\n",
       "\n",
       "    .dataframe thead th {\n",
       "        text-align: right;\n",
       "    }\n",
       "</style>\n",
       "<table border=\"1\" class=\"dataframe\">\n",
       "  <thead>\n",
       "    <tr style=\"text-align: right;\">\n",
       "      <th></th>\n",
       "      <th>Gender</th>\n",
       "      <th>Age</th>\n",
       "      <th>Nationality</th>\n",
       "      <th>mi</th>\n",
       "      <th>ms</th>\n",
       "    </tr>\n",
       "  </thead>\n",
       "  <tbody>\n",
       "    <tr>\n",
       "      <th>0</th>\n",
       "      <td>Female</td>\n",
       "      <td>18.0</td>\n",
       "      <td>Jordanian</td>\n",
       "      <td>5.0</td>\n",
       "      <td>1.0</td>\n",
       "    </tr>\n",
       "    <tr>\n",
       "      <th>1</th>\n",
       "      <td>Male</td>\n",
       "      <td>19.0</td>\n",
       "      <td>Canadian</td>\n",
       "      <td>10.0</td>\n",
       "      <td>0.3</td>\n",
       "    </tr>\n",
       "    <tr>\n",
       "      <th>2</th>\n",
       "      <td>Male</td>\n",
       "      <td>18.0</td>\n",
       "      <td>Jordanian</td>\n",
       "      <td>8.0</td>\n",
       "      <td>0.8</td>\n",
       "    </tr>\n",
       "    <tr>\n",
       "      <th>3</th>\n",
       "      <td>Male</td>\n",
       "      <td>19.0</td>\n",
       "      <td>Sudanese</td>\n",
       "      <td>4.0</td>\n",
       "      <td>1.8</td>\n",
       "    </tr>\n",
       "    <tr>\n",
       "      <th>4</th>\n",
       "      <td>Male</td>\n",
       "      <td>20.0</td>\n",
       "      <td>Sudanese</td>\n",
       "      <td>4.0</td>\n",
       "      <td>1.4</td>\n",
       "    </tr>\n",
       "  </tbody>\n",
       "</table>\n",
       "</div>"
      ],
      "text/plain": [
       "   Gender   Age Nationality    mi   ms\n",
       "0  Female  18.0   Jordanian   5.0  1.0\n",
       "1    Male  19.0    Canadian  10.0  0.3\n",
       "2    Male  18.0   Jordanian   8.0  0.8\n",
       "3    Male  19.0    Sudanese   4.0  1.8\n",
       "4    Male  20.0    Sudanese   4.0  1.4"
      ]
     },
     "execution_count": 3,
     "metadata": {},
     "output_type": "execute_result"
    }
   ],
   "source": [
    "# lets drop the ID column\n",
    "data = data.drop('ID', axis = 1)\n",
    "data.head()"
   ]
  },
  {
   "cell_type": "code",
   "execution_count": 4,
   "id": "f3e7cfc1",
   "metadata": {},
   "outputs": [
    {
     "data": {
      "text/plain": [
       "Gender         42\n",
       "Age            42\n",
       "Nationality    42\n",
       "mi             42\n",
       "ms             42\n",
       "dtype: int64"
      ]
     },
     "execution_count": 4,
     "metadata": {},
     "output_type": "execute_result"
    }
   ],
   "source": [
    "# Lets check missing values\n",
    "data.isnull().sum()"
   ]
  },
  {
   "cell_type": "markdown",
   "id": "397e17ae",
   "metadata": {},
   "source": [
    "As we can see that we have some missing values \n",
    "- the treatment of these values is to remove them\n",
    "- these values are because of wrong entries"
   ]
  },
  {
   "cell_type": "code",
   "execution_count": 5,
   "id": "bd99cf7a",
   "metadata": {},
   "outputs": [],
   "source": [
    "# removing the missing values\n",
    "data.dropna(inplace = True)"
   ]
  },
  {
   "cell_type": "code",
   "execution_count": 6,
   "id": "273a744c",
   "metadata": {},
   "outputs": [
    {
     "data": {
      "text/plain": [
       "Gender         0\n",
       "Age            0\n",
       "Nationality    0\n",
       "mi             0\n",
       "ms             0\n",
       "dtype: int64"
      ]
     },
     "execution_count": 6,
     "metadata": {},
     "output_type": "execute_result"
    }
   ],
   "source": [
    "# Checking the missing values again\n",
    "data.isnull().sum()"
   ]
  },
  {
   "cell_type": "markdown",
   "id": "b4884102",
   "metadata": {},
   "source": [
    "We have left with zero missing values"
   ]
  },
  {
   "cell_type": "code",
   "execution_count": 7,
   "id": "ead1ebe4",
   "metadata": {},
   "outputs": [
    {
     "name": "stdout",
     "output_type": "stream",
     "text": [
      "          Age        mi        ms\n",
      "Age  1.000000  0.194451  0.099420\n",
      "mi   0.194451  1.000000  0.410836\n",
      "ms   0.099420  0.410836  1.000000\n"
     ]
    },
    {
     "data": {
      "text/plain": [
       "<module 'matplotlib' from 'C:\\\\ProgramData\\\\Anaconda3\\\\lib\\\\site-packages\\\\matplotlib\\\\__init__.py'>"
      ]
     },
     "execution_count": 7,
     "metadata": {},
     "output_type": "execute_result"
    },
    {
     "data": {
      "image/png": "[encoded data removed]",
      "text/plain": [
       "<Figure size 720x360 with 2 Axes>"
      ]
     },
     "metadata": {},
     "output_type": "display_data"
    }
   ],
   "source": [
    "# plotting the correlation graph\n",
    "corr = data.corr()\n",
    "print(corr)\n",
    "sns.set(rc = {'figure.figsize':(10,5)})\n",
    "sns.heatmap(corr,xticklabels=corr.columns,yticklabels=corr.columns)\n",
    "plt"
   ]
  },
  {
   "cell_type": "code",
   "execution_count": 8,
   "id": "13afa982",
   "metadata": {},
   "outputs": [
    {
     "data": {
      "text/html": [
       "<div>\n",
       "<style scoped>\n",
       "    .dataframe tbody tr th:only-of-type {\n",
       "        vertical-align: middle;\n",
       "    }\n",
       "\n",
       "    .dataframe tbody tr th {\n",
       "        vertical-align: top;\n",
       "    }\n",
       "\n",
       "    .dataframe thead th {\n",
       "        text-align: right;\n",
       "    }\n",
       "</style>\n",
       "<table border=\"1\" class=\"dataframe\">\n",
       "  <thead>\n",
       "    <tr style=\"text-align: right;\">\n",
       "      <th></th>\n",
       "      <th>Age</th>\n",
       "      <th>mi</th>\n",
       "      <th>ms</th>\n",
       "    </tr>\n",
       "  </thead>\n",
       "  <tbody>\n",
       "    <tr>\n",
       "      <th>count</th>\n",
       "      <td>64.000000</td>\n",
       "      <td>64.000000</td>\n",
       "      <td>64.000000</td>\n",
       "    </tr>\n",
       "    <tr>\n",
       "      <th>mean</th>\n",
       "      <td>22.750000</td>\n",
       "      <td>7.275000</td>\n",
       "      <td>1.876562</td>\n",
       "    </tr>\n",
       "    <tr>\n",
       "      <th>std</th>\n",
       "      <td>4.472136</td>\n",
       "      <td>2.955168</td>\n",
       "      <td>1.311093</td>\n",
       "    </tr>\n",
       "    <tr>\n",
       "      <th>min</th>\n",
       "      <td>18.000000</td>\n",
       "      <td>2.000000</td>\n",
       "      <td>0.300000</td>\n",
       "    </tr>\n",
       "    <tr>\n",
       "      <th>25%</th>\n",
       "      <td>19.750000</td>\n",
       "      <td>5.000000</td>\n",
       "      <td>0.975000</td>\n",
       "    </tr>\n",
       "    <tr>\n",
       "      <th>50%</th>\n",
       "      <td>21.000000</td>\n",
       "      <td>7.000000</td>\n",
       "      <td>1.500000</td>\n",
       "    </tr>\n",
       "    <tr>\n",
       "      <th>75%</th>\n",
       "      <td>26.000000</td>\n",
       "      <td>9.000000</td>\n",
       "      <td>2.500000</td>\n",
       "    </tr>\n",
       "    <tr>\n",
       "      <th>max</th>\n",
       "      <td>34.000000</td>\n",
       "      <td>15.000000</td>\n",
       "      <td>5.500000</td>\n",
       "    </tr>\n",
       "  </tbody>\n",
       "</table>\n",
       "</div>"
      ],
      "text/plain": [
       "             Age         mi         ms\n",
       "count  64.000000  64.000000  64.000000\n",
       "mean   22.750000   7.275000   1.876562\n",
       "std     4.472136   2.955168   1.311093\n",
       "min    18.000000   2.000000   0.300000\n",
       "25%    19.750000   5.000000   0.975000\n",
       "50%    21.000000   7.000000   1.500000\n",
       "75%    26.000000   9.000000   2.500000\n",
       "max    34.000000  15.000000   5.500000"
      ]
     },
     "execution_count": 8,
     "metadata": {},
     "output_type": "execute_result"
    }
   ],
   "source": [
    "# decsription of the dataset\n",
    "data.describe()"
   ]
  },
  {
   "cell_type": "code",
   "execution_count": 9,
   "id": "060029a6",
   "metadata": {},
   "outputs": [
    {
     "data": {
      "text/plain": [
       "array(['Jordanian', 'Canadian', 'Sudanese', 'Syrian', 'Libya',\n",
       "       'Egyptian ', 'Moroccan ', 'Jordanian ', 'Palestinian', 'Iraq',\n",
       "       'Sudanese ', 'Yemen', 'Pakistan', 'syrian'], dtype=object)"
      ]
     },
     "execution_count": 9,
     "metadata": {},
     "output_type": "execute_result"
    }
   ],
   "source": [
    "# lets check the Nationality column\n",
    "data.Nationality.unique()"
   ]
  },
  {
   "cell_type": "code",
   "execution_count": 10,
   "id": "0669eb67",
   "metadata": {},
   "outputs": [
    {
     "data": {
      "text/plain": [
       "array(['Female', 'Male', 'female'], dtype=object)"
      ]
     },
     "execution_count": 10,
     "metadata": {},
     "output_type": "execute_result"
    }
   ],
   "source": [
    "# # lets check the gender feature\n",
    "data.Gender.unique()"
   ]
  },
  {
   "cell_type": "markdown",
   "id": "96eb9e21",
   "metadata": {},
   "source": [
    "There is a problem with the Gender column\n",
    "- the female word is entered twice\n",
    "- Female\n",
    "- female\n",
    "We will convert these values into 0s and 1s\n",
    "- because machine learning models don't understand categorical values\n",
    "- we will convert them into numerical values\n",
    "- 0 for Male\n",
    "- 1 for female"
   ]
  },
  {
   "cell_type": "code",
   "execution_count": 11,
   "id": "905ceb37",
   "metadata": {},
   "outputs": [],
   "source": [
    "# Replacing Female and female as 1\n",
    "data[\"Gender\"] = data[\"Gender\"].replace(['Female', 'female'], 1)"
   ]
  },
  {
   "cell_type": "code",
   "execution_count": 12,
   "id": "e2f004c5",
   "metadata": {},
   "outputs": [],
   "source": [
    "# Now replace the Male with 0\n",
    "data[\"Gender\"] = data[\"Gender\"].replace(['Male'], 0)"
   ]
  },
  {
   "cell_type": "code",
   "execution_count": 13,
   "id": "254e9d84",
   "metadata": {},
   "outputs": [
    {
     "data": {
      "text/plain": [
       "array([1, 0], dtype=int64)"
      ]
     },
     "execution_count": 13,
     "metadata": {},
     "output_type": "execute_result"
    }
   ],
   "source": [
    "data.Gender.unique()"
   ]
  },
  {
   "cell_type": "markdown",
   "id": "39dcf9c2",
   "metadata": {},
   "source": [
    "As you can see that the Gender column in now converted into 0 and 1\n",
    "- 0 means Male\n",
    "- 1 means Female"
   ]
  },
  {
   "cell_type": "markdown",
   "id": "33b925e4",
   "metadata": {},
   "source": [
    "Now lets convert the Nationality column into numerical values\n",
    "- because machine learning models only understand numerical values\n",
    "- we will use the Python's Map technique to convert the countries names into numbers"
   ]
  },
  {
   "cell_type": "code",
   "execution_count": 14,
   "id": "83a46183",
   "metadata": {},
   "outputs": [],
   "source": [
    "# we will convert the nationalities into specific numbers\n",
    "# we will give each country a special number\n",
    "data['Nationality'] = data['Nationality'].map(\n",
    "    { \n",
    "        'Jordanian':0, \n",
    "        'Canadian':1, \n",
    "        'Sudanese':2, \n",
    "        'Syrian':3, \n",
    "        'Libya':4,\n",
    "        'Egyptian ':5, \n",
    "        'Moroccan ':6, \n",
    "        'Jordanian ':7, \n",
    "        'Palestinian':8, \n",
    "        'Iraq':9, \n",
    "        'Sudanese ':2,\n",
    "        'Yemen':11, \n",
    "        'Pakistan':12, \n",
    "        'syrian':3, \n",
    "        \n",
    "    }\n",
    ")\n"
   ]
  },
  {
   "cell_type": "code",
   "execution_count": 15,
   "id": "926718cd",
   "metadata": {},
   "outputs": [
    {
     "data": {
      "text/plain": [
       "array([ 0,  1,  2,  3,  4,  5,  6,  7,  8,  9, 11, 12], dtype=int64)"
      ]
     },
     "execution_count": 15,
     "metadata": {},
     "output_type": "execute_result"
    }
   ],
   "source": [
    "# the nationality is now converted into numerical values\n",
    "data.Nationality.unique()"
   ]
  },
  {
   "cell_type": "markdown",
   "id": "b2beb589",
   "metadata": {},
   "source": [
    "# Splitting the data\n",
    "\n",
    "Now we will split the data into test and train set\n",
    "- the train set will be used to train the models\n",
    "- the test set will be used to test the models\n",
    "the goal of this project is predict 'ms' based on all the other features, so:\n",
    "- ms is the dependent feature\n",
    "- all the other columns are independent"
   ]
  },
  {
   "cell_type": "code",
   "execution_count": 16,
   "id": "24bbc2d0",
   "metadata": {},
   "outputs": [],
   "source": [
    "# we will store the independent features in X variable \n",
    "X = data.drop('ms', axis = 1)"
   ]
  },
  {
   "cell_type": "code",
   "execution_count": 18,
   "id": "9b0eec2b",
   "metadata": {},
   "outputs": [],
   "source": [
    "# store the dependent variable ms in y\n",
    "Y = data['ms']"
   ]
  },
  {
   "cell_type": "code",
   "execution_count": 20,
   "id": "d1950766",
   "metadata": {},
   "outputs": [],
   "source": [
    "# now we will import the test and train fucntion to split the data into test and train set\n",
    "# Splitting the data into train and test sets\n",
    "from sklearn.model_selection import train_test_split\n",
    "X_train, X_test, y_train, y_test = train_test_split(X, Y, test_size = 0.1, random_state = 1)"
   ]
  },
  {
   "cell_type": "markdown",
   "id": "3e076812",
   "metadata": {},
   "source": [
    "# Model building \n",
    "Now we will train different machine learning models and give their accuracies\n",
    "we will train the following models"
   ]
  },
  {
   "cell_type": "code",
   "execution_count": 71,
   "id": "13f6a474",
   "metadata": {},
   "outputs": [],
   "source": [
    "# importing the machine learning models from sklearn\n",
    "from sklearn.tree import DecisionTreeRegressor\n",
    "from sklearn.linear_model import LinearRegression\n",
    "from sklearn.ensemble import RandomForestRegressor\n",
    "from sklearn.metrics import mean_squared_error, mean_absolute_error\n",
    "from sklearn.ensemble import AdaBoostRegressor,GradientBoostingRegressor,RandomForestRegressor\n",
    "from sklearn.neighbors import KNeighborsRegressor\n",
    "from xgboost import XGBRegressor"
   ]
  },
  {
   "cell_type": "markdown",
   "id": "a934bf1c",
   "metadata": {},
   "source": [
    "# Linear Regression"
   ]
  },
  {
   "cell_type": "code",
   "execution_count": 67,
   "id": "12f5f650",
   "metadata": {},
   "outputs": [],
   "source": [
    "# Training the Linear Regression model\n",
    "lr_clf = LinearRegression()\n",
    "lr_clf.fit(X_train,y_train)\n",
    "lr_predict = lr_clf.predict(X_test)"
   ]
  },
  {
   "cell_type": "code",
   "execution_count": 68,
   "id": "682b3bd5",
   "metadata": {},
   "outputs": [
    {
     "data": {
      "text/plain": [
       "array([2.30681266, 1.78127422, 2.89554479, 1.66348657, 2.68560158,\n",
       "       1.93659654, 1.75662217])"
      ]
     },
     "execution_count": 68,
     "metadata": {},
     "output_type": "execute_result"
    }
   ],
   "source": [
    "lr_predict # prediction using Linear regression"
   ]
  },
  {
   "cell_type": "code",
   "execution_count": 69,
   "id": "f94f7b55",
   "metadata": {},
   "outputs": [
    {
     "name": "stdout",
     "output_type": "stream",
     "text": [
      "MSE =  1.4534648267506858\n",
      "r2 score :  -2.1429733676427003\n",
      "MSE :  1.4534648267506858\n",
      "MAE :  1.1160991690138262\n"
     ]
    }
   ],
   "source": [
    "print('MSE = ',mean_squared_error(y_test,lr_predict))\n",
    "print(\"r2 score : \",r2_score(y_test,lr_predict))\n",
    "print(\"MSE : \",mean_squared_error(y_test,lr_predict))\n",
    "print(\"MAE : \",mean_absolute_error(y_test,lr_predict))"
   ]
  },
  {
   "cell_type": "markdown",
   "id": "50855865",
   "metadata": {},
   "source": [
    "### Gradient Boost\n",
    "### Random Forest\n",
    "### XGBoost"
   ]
  },
  {
   "cell_type": "code",
   "execution_count": 72,
   "id": "9afa3585",
   "metadata": {},
   "outputs": [],
   "source": [
    "#this function used to evalute the models with features and terget.\n",
    "def models_score(models, x_train, x_test, y_train, y_test):    \n",
    "    scores = {}\n",
    "    for name, model in models.items():\n",
    "        model.fit(x_train, y_train)\n",
    "        y_pred=model.predict(x_test) \n",
    "        scores[name] =r2_score(y_test,y_pred)\n",
    "        #printing the model name and accuracy !!!!!\n",
    "        print(\"Model name: \",model)\n",
    "        print(\"R2 score :--->>\",r2_score(y_test,y_pred))\n",
    "        print(\"MSE\",mean_squared_error(y_test,y_pred))\n",
    "        print(\"MAE\",mean_absolute_error(y_test,y_pred))\n",
    "        print(\"\\n<<<<------------------------------------------------------------->>>>\\n\")\n",
    "           \n",
    "   \n",
    "    model_scores = pd.DataFrame(scores, index=['score']).transpose()\n",
    "    model_scores = model_scores.sort_values('score',ascending=False)\n",
    "    return model_scores"
   ]
  },
  {
   "cell_type": "code",
   "execution_count": 73,
   "id": "da6d4ba7",
   "metadata": {},
   "outputs": [],
   "source": [
    "#initialize the models \n",
    "models = {\"GradiantBoost\":GradientBoostingRegressor(random_state=22, n_estimators = 142),\n",
    "         \"RandomForest\":RandomForestRegressor(random_state=150),\n",
    "         \"XGBboost\":XGBRegressor(random_state=22, n_estimators = 142)}\n",
    "                                 "
   ]
  },
  {
   "cell_type": "code",
   "execution_count": 74,
   "id": "f4244a67",
   "metadata": {},
   "outputs": [
    {
     "name": "stdout",
     "output_type": "stream",
     "text": [
      "Model name:  GradientBoostingRegressor(n_estimators=142, random_state=22)\n",
      "R2 score :--->> -3.1616638570192865\n",
      "MSE 1.924557204082797\n",
      "MAE 1.2819113427282733\n",
      "\n",
      "<<<<------------------------------------------------------------->>>>\n",
      "\n",
      "Model name:  RandomForestRegressor(random_state=150)\n",
      "R2 score :--->> -1.3626850397175665\n",
      "MSE 1.092621285714287\n",
      "MAE 0.9270000000000005\n",
      "\n",
      "<<<<------------------------------------------------------------->>>>\n",
      "\n",
      "Model name:  XGBRegressor(base_score=0.5, booster='gbtree', colsample_bylevel=1,\n",
      "             colsample_bynode=1, colsample_bytree=1, enable_categorical=False,\n",
      "             gamma=0, gpu_id=-1, importance_type=None,\n",
      "             interaction_constraints='', learning_rate=0.300000012,\n",
      "             max_delta_step=0, max_depth=6, min_child_weight=1, missing=nan,\n",
      "             monotone_constraints='()', n_estimators=142, n_jobs=8,\n",
      "             num_parallel_tree=1, predictor='auto', random_state=22,\n",
      "             reg_alpha=0, reg_lambda=1, scale_pos_weight=1, subsample=1,\n",
      "             tree_method='exact', validate_parameters=1, verbosity=None)\n",
      "R2 score :--->> -1.4596431540692776\n",
      "MSE 1.1374594667593845\n",
      "MAE 0.9604703256062098\n",
      "\n",
      "<<<<------------------------------------------------------------->>>>\n",
      "\n"
     ]
    }
   ],
   "source": [
    "#Calling the function\n",
    "model_scores = models_score(models, X_train, X_test, y_train, y_test)"
   ]
  },
  {
   "cell_type": "code",
   "execution_count": 75,
   "id": "4ccff988",
   "metadata": {},
   "outputs": [
    {
     "data": {
      "text/html": [
       "<div>\n",
       "<style scoped>\n",
       "    .dataframe tbody tr th:only-of-type {\n",
       "        vertical-align: middle;\n",
       "    }\n",
       "\n",
       "    .dataframe tbody tr th {\n",
       "        vertical-align: top;\n",
       "    }\n",
       "\n",
       "    .dataframe thead th {\n",
       "        text-align: right;\n",
       "    }\n",
       "</style>\n",
       "<table border=\"1\" class=\"dataframe\">\n",
       "  <thead>\n",
       "    <tr style=\"text-align: right;\">\n",
       "      <th></th>\n",
       "      <th>score</th>\n",
       "    </tr>\n",
       "  </thead>\n",
       "  <tbody>\n",
       "    <tr>\n",
       "      <th>RandomForest</th>\n",
       "      <td>-1.362685</td>\n",
       "    </tr>\n",
       "    <tr>\n",
       "      <th>XGBboost</th>\n",
       "      <td>-1.459643</td>\n",
       "    </tr>\n",
       "    <tr>\n",
       "      <th>GradiantBoost</th>\n",
       "      <td>-3.161664</td>\n",
       "    </tr>\n",
       "  </tbody>\n",
       "</table>\n",
       "</div>"
      ],
      "text/plain": [
       "                  score\n",
       "RandomForest  -1.362685\n",
       "XGBboost      -1.459643\n",
       "GradiantBoost -3.161664"
      ]
     },
     "execution_count": 75,
     "metadata": {},
     "output_type": "execute_result"
    }
   ],
   "source": [
    "#printing the model score\n",
    "model_scores"
   ]
  },
  {
   "cell_type": "markdown",
   "id": "ab7d6133",
   "metadata": {},
   "source": [
    "### ADA Boost"
   ]
  },
  {
   "cell_type": "code",
   "execution_count": 76,
   "id": "ccdf15f4",
   "metadata": {},
   "outputs": [
    {
     "data": {
      "text/plain": [
       "AdaBoostRegressor(learning_rate=0.001, n_estimators=500)"
      ]
     },
     "execution_count": 76,
     "metadata": {},
     "output_type": "execute_result"
    }
   ],
   "source": [
    "model = AdaBoostRegressor(n_estimators=500 ,learning_rate=0.001)\n",
    "model.fit(X_train,y_train)"
   ]
  },
  {
   "cell_type": "code",
   "execution_count": 77,
   "id": "8962a22c",
   "metadata": {},
   "outputs": [
    {
     "data": {
      "text/plain": [
       "-1.067614052639101"
      ]
     },
     "execution_count": 77,
     "metadata": {},
     "output_type": "execute_result"
    }
   ],
   "source": [
    "model.score(X_test,y_test)"
   ]
  },
  {
   "cell_type": "code",
   "execution_count": 80,
   "id": "03727fe9",
   "metadata": {},
   "outputs": [
    {
     "data": {
      "text/plain": [
       "array([2.03181818, 1.46060606, 2.5875    , 1.61428571, 2.00833333,\n",
       "       2.15238095, 2.        ])"
      ]
     },
     "execution_count": 80,
     "metadata": {},
     "output_type": "execute_result"
    }
   ],
   "source": [
    "ada_pred = model.predict(X_test)\n",
    "ada_pred"
   ]
  },
  {
   "cell_type": "code",
   "execution_count": 79,
   "id": "9be4c295",
   "metadata": {},
   "outputs": [
    {
     "name": "stdout",
     "output_type": "stream",
     "text": [
      "r2 score :  -1.067614052639101\n",
      "MSE :  0.9561660088326944\n",
      "MAE :  0.8792748917748917\n"
     ]
    }
   ],
   "source": [
    "print(\"r2 score : \",r2_score(y_test,ada_pred))\n",
    "print(\"MSE : \",mean_squared_error(y_test,ada_pred))\n",
    "print(\"MAE : \",mean_absolute_error(y_test,ada_pred))"
   ]
  },
  {
   "cell_type": "markdown",
   "id": "f987915d",
   "metadata": {},
   "source": [
    "We have trained many regression models as shown above\n",
    "- we calculated the RMSE, MSE r2 scores of each model\n",
    "# END"
   ]
  }
 ],
 "metadata": {
  "kernelspec": {
   "display_name": "Python 3",
   "language": "python",
   "name": "python3"
  },
  "language_info": {
   "codemirror_mode": {
    "name": "ipython",
    "version": 3
   },
   "file_extension": ".py",
   "mimetype": "text/x-python",
   "name": "python",
   "nbconvert_exporter": "python",
   "pygments_lexer": "ipython3",
   "version": "3.8.8"
  }
 },
 "nbformat": 4,
 "nbformat_minor": 5
}
